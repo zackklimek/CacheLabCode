{
  "nbformat": 4,
  "nbformat_minor": 0,
  "metadata": {
    "colab": {
      "provenance": [],
      "authorship_tag": "ABX9TyPIz/DMd0sOtnFofczHLCrg",
      "include_colab_link": true
    },
    "kernelspec": {
      "name": "python3",
      "display_name": "Python 3"
    },
    "language_info": {
      "name": "python"
    }
  },
  "cells": [
    {
      "cell_type": "markdown",
      "metadata": {
        "id": "view-in-github",
        "colab_type": "text"
      },
      "source": [
        "<a href=\"https://colab.research.google.com/github/zackklimek/CacheLabCode/blob/master/klimek_hw1_knn_naivebayes.ipynb\" target=\"_parent\"><img src=\"https://colab.research.google.com/assets/colab-badge.svg\" alt=\"Open In Colab\"/></a>"
      ]
    },
    {
      "cell_type": "markdown",
      "source": [
        "# Homework 1 - KNN and Naive Bayes Classification\n",
        "### Zack Klimek | CIS 378-01 | 2/7/2022\n",
        "\n",
        "Note: I was not able to complete the questions related to baseline accuracy. I recall covering this in class, but will plan on meeting in office hours to review how to calcuate it for a given problem."
      ],
      "metadata": {
        "id": "MRfxWaJz_iGK"
      }
    },
    {
      "cell_type": "markdown",
      "source": [
        "## Problem 1 - EMNIST Letters Classification\n",
        "*This problem is based on the MNIST Exercises from Chapter 2 of Applied Machine Learning by David Forsyth (2019).*\n",
        "\n",
        "[EMNIST](https://www.nist.gov/itl/products-and-services/emnist-dataset) [1] is a large image dataset for character and letter recognition. It was designed to be an extended version created in the same format as the original (and very popular) MNIST dataset which contained only digits.\n",
        "\n",
        "EMNIST contains a variety of sub datasets for general character, digit only, and alphabetical character only recognition.  In this problem, we are going to look at EMNIST Letters:  a balanced dataset with only alphabetical letters (26 classes, upper and lowercase are both labeled to the same class).\n",
        "\n",
        "<hr>"
      ],
      "metadata": {
        "id": "ok2hyumn_7dT"
      }
    },
    {
      "cell_type": "markdown",
      "source": [
        "1. Load in the dataset (both training and test sets) so that each sample (e.g. image) is one row.  Each row should be of lenght 784 (each image is $28 \\times 28$, so if you view each pixel as a feature you would have $28 \\times 28$ features for each image.  You can confirm that you've done it correctly by looking at the 20th image in the training set (which should very clearly be a `B`).  You can plot it with the following where you would need to uncomment one of the two `order = ...` lines (which one depends on which of the two options below that you use to access the data.)\n",
        "\n",
        "[emnist python package](https://pypi.org/project/emnist/) to access the dataset\n",
        "<hr/>"
      ],
      "metadata": {
        "id": "jm7jrIXnAQrU"
      }
    },
    {
      "cell_type": "code",
      "source": [
        "!pip install pyflann-py3\n",
        "!pip install emnist"
      ],
      "metadata": {
        "id": "owUDLsuK__6X"
      },
      "execution_count": null,
      "outputs": []
    },
    {
      "cell_type": "code",
      "source": [
        "from emnist import list_datasets\n",
        "from emnist import extract_training_samples\n",
        "letter_images, labels = extract_training_samples('letters')"
      ],
      "metadata": {
        "id": "3fjnX3IrAgO9"
      },
      "execution_count": 2,
      "outputs": []
    },
    {
      "cell_type": "markdown",
      "source": [
        "<hr/>"
      ],
      "metadata": {
        "id": "wiDAA7MYNK_M"
      }
    },
    {
      "cell_type": "code",
      "source": [
        "import numpy as np\n",
        "\n",
        "# For each image, extend a temporary array with each row in the image's 2d ndarray\n",
        "image_lists = []\n",
        "\n",
        "for image in letter_images:\n",
        "  temp_features = []\n",
        "  for row in image:\n",
        "    temp_features.extend(row)\n",
        "  image_lists.append(temp_features)\n",
        "\n",
        "# Convert list of lists to 2d numpy array - use image_arrays and labels for models\n",
        "image_arrays = np.array(image_lists)"
      ],
      "metadata": {
        "id": "kXVuU0WB__lJ"
      },
      "execution_count": 3,
      "outputs": []
    },
    {
      "cell_type": "markdown",
      "source": [
        "Plotting image with [matplotlib.pyplot](https://matplotlib.org/stable/tutorials/introductory/images.html). Confirms the letter 'B' at index 20 for the original 3d ndarray and the transformed 2d array."
      ],
      "metadata": {
        "id": "EZd8xBlPD3al"
      }
    },
    {
      "cell_type": "code",
      "source": [
        "import matplotlib.pyplot as plt\n",
        "order = 'c'\n",
        "# order = 'f'\n",
        "\n",
        "plot2 = plt.imshow(image_arrays[20].reshape((28,28),order=order))"
      ],
      "metadata": {
        "colab": {
          "base_uri": "https://localhost:8080/",
          "height": 265
        },
        "id": "BlqIbAJNAl8d",
        "outputId": "48a93414-2f41-4c19-8c0d-ee25bf4c555a"
      },
      "execution_count": 4,
      "outputs": [
        {
          "output_type": "display_data",
          "data": {
            "text/plain": [
              "<Figure size 432x288 with 1 Axes>"
            ],
            "image/png": "[encoded data removed]"
          },
          "metadata": {
            "needs_background": "light"
          }
        }
      ]
    },
    {
      "cell_type": "markdown",
      "source": [
        "sklearn [train_test_split()](https://scikit-learn.org/stable/modules/generated/sklearn.model_selection.train_test_split.html), [Nearest Neighbors](https://scikit-learn.org/stable/modules/neighbors.html), [KNeighborsClassifier](https://scikit-learn.org/stable/modules/generated/sklearn.neighbors.KNeighborsClassifier.html#sklearn.neighbors.KNeighborsClassifier)"
      ],
      "metadata": {
        "id": "fgsddG0OED_X"
      }
    },
    {
      "cell_type": "code",
      "source": [
        "from sklearn.model_selection import train_test_split\n",
        "\n",
        "X_train, X_test, y_train, y_test = train_test_split(image_arrays, labels, test_size=0.25)"
      ],
      "metadata": {
        "id": "Gjb87LJDD458"
      },
      "execution_count": 149,
      "outputs": []
    },
    {
      "cell_type": "markdown",
      "source": [
        "<hr>\n",
        "<p> \n",
        "2. Using sklearn, build and evaluate a k-nearest neighbors classifier. Use cross-validation to evaluate (you might want to look at sklearn's docs on how to use cross-validation with their models, what validation accuracy do you get? Choose a relatively small value for \n",
        " (somewhere between 3 and 5).\n",
        " </p> "
      ],
      "metadata": {
        "id": "UWQiVB0XERGm"
      }
    },
    {
      "cell_type": "markdown",
      "source": [
        "Fit KNN classifier using the training data and training data labels."
      ],
      "metadata": {
        "id": "XJIHKQdGEWMi"
      }
    },
    {
      "cell_type": "code",
      "source": [
        "from sklearn.neighbors import KNeighborsClassifier\n",
        "\n",
        "knn = KNeighborsClassifier(n_neighbors=5)\n",
        "knn.fit(X_train, y_train)"
      ],
      "metadata": {
        "colab": {
          "base_uri": "https://localhost:8080/"
        },
        "id": "cnAPy3gnETtg",
        "outputId": "9b3cd617-a133-4901-d942-f5a89c0f1c83"
      },
      "execution_count": null,
      "outputs": [
        {
          "output_type": "execute_result",
          "data": {
            "text/plain": [
              "KNeighborsClassifier()"
            ]
          },
          "metadata": {},
          "execution_count": 210
        }
      ]
    },
    {
      "cell_type": "markdown",
      "source": [
        "Split training data using cross-validation while evaluating models - [sklearn: predict()](https://scikit-learn.org/stable/modules/generated/sklearn.neighbors.KNeighborsClassifier.html#sklearn.neighbors.KNeighborsClassifier.predict)\n",
        "\n",
        "[3.1 Cross-validation: evaluating estimator performance (sklearn)](https://scikit-learn.org/stable/modules/cross_validation)"
      ],
      "metadata": {
        "id": "2DAiLW5xEaKW"
      }
    },
    {
      "cell_type": "code",
      "source": [
        "from sklearn.model_selection import cross_val_score\n",
        "knn_scores = cross_val_score(knn, X_train, y_train, cv=4)\n",
        "\n",
        "print('KNN (sklearn) Average Scores:', sum(knn_scores)/len(knn_scores))"
      ],
      "metadata": {
        "id": "lKD9hAwxEZ90",
        "colab": {
          "base_uri": "https://localhost:8080/"
        },
        "outputId": "7e2ad48d-f1c0-4d6d-bdd1-7e4977691abf"
      },
      "execution_count": null,
      "outputs": [
        {
          "output_type": "stream",
          "name": "stdout",
          "text": [
            "KNN (sklearn) Average Scores: 0.8483760683760684\n"
          ]
        }
      ]
    },
    {
      "cell_type": "markdown",
      "source": [
        "<hr>\n",
        "<h4>\n",
        "3. Build and evaluate an approximate nearest neighbors classifier using FLANN. FLANN is a package for performing nearest neighbor search in high-dimensional spaces. It's actually in C++, but there's python bindings available in pyflann. Admittedly, the pyflann documentation isn't great, so you'll probably need to do some googling to figure out the calls. You want to use build_index and nn_index rather than just nn which is what they show in most examples (nn isn't fantastic because it rebuilds the index every time). You can either implement cross-validation on your own or you can just <u>separate the training set into a training set and validation set</u> (since there's no easy way to do cross-validation automatically with flann). Note -- when you use pyflann to predict, it doesn't\n",
        "</h4>\n",
        "\n",
        "[FLANN repository](https://github.com/flann-lib/flann) (Fast Library for Approximate Nearest Neighbors)\n",
        "\n",
        "[pyflann docs](https://wbia-tpl-pyflann.readthedocs.io/en/latest/pyflann.html)"
      ],
      "metadata": {
        "id": "HxKDZ2PAE1LJ"
      }
    },
    {
      "cell_type": "code",
      "source": [
        "# Split complete dataset into training and test sets (repeated from above)\n",
        "X_train, X_test, y_train, y_test = train_test_split(image_arrays, labels, test_size=0.25)"
      ],
      "metadata": {
        "id": "UU2SIKQeG9cl"
      },
      "execution_count": 150,
      "outputs": []
    },
    {
      "cell_type": "code",
      "source": [
        "# Split training set into training set and validation set (4 folds)\n",
        "X_train2, X_validation, y_train2, y_validation = train_test_split(X_train, y_train, test_size=0.25)"
      ],
      "metadata": {
        "id": "YYjuwEjzL87D"
      },
      "execution_count": 151,
      "outputs": []
    },
    {
      "cell_type": "code",
      "source": [
        "from pyflann import FLANN\n",
        "flann = FLANN()"
      ],
      "metadata": {
        "id": "xsvYVE-0E78G"
      },
      "execution_count": 179,
      "outputs": []
    },
    {
      "cell_type": "code",
      "source": [
        "# fits ANN model\n",
        "b_i_return = flann.build_index(X_train2)\n",
        "\n",
        "# returns results, array of num_neighbors closest neighbors\n",
        "nn_return = flann.nn_index(X_validation, num_neighbors=9) \n",
        "\n",
        "neighbors = nn_return[0]  # neighbors of each element in test/valid set"
      ],
      "metadata": {
        "id": "ZDtXa7UuE-PB"
      },
      "execution_count": 184,
      "outputs": []
    },
    {
      "cell_type": "code",
      "source": [
        "validation_correct = 0\n",
        "for v in range(len(X_validation)):\n",
        "  # set of X_validation[v]'s nearest neighbors\n",
        "  nn_set = {}\n",
        "  # at element v in the validation set, iterate through each neighbor\n",
        "  # index - index of v's neighbor in X_train2\n",
        "  for index in neighbors[v]:\n",
        "    prediction = y_train2[index]\n",
        "    if prediction in nn_set:\n",
        "      nn_set[prediction] = nn_set[prediction] + 1\n",
        "    else:\n",
        "      nn_set[prediction] = 1\n",
        "  max_val = 0\n",
        "  max_label = 0\n",
        "  for key in nn_set:\n",
        "    if nn_set[key] > max_val:\n",
        "      max_val = nn_set[key]\n",
        "      max_label = key\n",
        "  if max_label == y_validation[v]:\n",
        "    validation_correct = validation_correct + 1\n",
        "\n",
        "print('FLANN Validation Accuracy = ', validation_correct/len(X_validation))"
      ],
      "metadata": {
        "colab": {
          "base_uri": "https://localhost:8080/"
        },
        "id": "twukThhfPtjh",
        "outputId": "2a61f1a3-f2b8-46d2-f5d7-b49838a09738"
      },
      "execution_count": 185,
      "outputs": [
        {
          "output_type": "stream",
          "name": "stdout",
          "text": [
            "FLANN Validation Accuracy =  0.7874786324786325\n"
          ]
        }
      ]
    },
    {
      "cell_type": "markdown",
      "source": [
        "<h4>How does the validation accuracy compare to sklearn's nearest neighbors? How about the runtime?<h4>\n",
        "\n",
        "<p>sklearn's KNN model produced an average validation accuracy of <u>84.75%</u> using 4-folds cross validation. Splitting the training set into another training set and validation set produced an average validation accuracy of <u>79.67%</u> using FLANN's ANN model. sklearn's cross-validation runtime averaged around 9 minutes (~1.8 minutes per fold), while FLANN enabled validation accuracy to be predicted in under a second after the validation set's nearest neighbors were generated.</p>"
      ],
      "metadata": {
        "id": "-pP5lfF8ZEyk"
      }
    },
    {
      "cell_type": "markdown",
      "source": [
        "<h4>Try different number of neighbors between 2 and 10. Based on the validation accuracy, what is the best value for number of neighbors?<h4>\n",
        "<p>For this dataset, validation accuracy has an inverse relationship with the number of neighbors considered. <u>3 neighbors</u> consistently classified the validation sets the best. </p>"
      ],
      "metadata": {
        "id": "ivjVqqjrbsLF"
      }
    },
    {
      "cell_type": "markdown",
      "source": [
        "<p>\n",
        "<table>\n",
        "<tr>\n",
        "  <td># of Neighbors</td>\n",
        "  <td>FLANN Avg. Validation Accuracy</td>\n",
        "  <td>Avg. V.A. Trial #2</td>\n",
        "</tr>\n",
        "<tr> \n",
        "  <td>2</td>\n",
        "  <td>80.65%</td>\n",
        "  <td>80.46%</td>\n",
        "</tr>\n",
        "<tr> \n",
        "  <td><b>3</b></td>\n",
        "  <td><b>80.75%</b></td>\n",
        "  <td><b>80.64%</b></td>\n",
        "</tr>\n",
        "<tr> \n",
        "  <td>5</td>\n",
        "  <td>79.93%</td>\n",
        "  <td>80.39%</td>\n",
        "</tr>\n",
        "<tr> \n",
        "  <td>7</td>\n",
        "  <td>78.91%</td>\n",
        "  <td>79.38%</td>\n",
        "</tr>\n",
        "<tr> \n",
        "  <td>9</td>\n",
        "  <td>78.42%</td>\n",
        "  <td>78.75%</td>\n",
        "</tr>\n",
        "</table>\n",
        "</p>"
      ],
      "metadata": {
        "id": "qgUKK5x9JQ02"
      }
    },
    {
      "cell_type": "markdown",
      "source": [
        "<hr/>\n",
        "<h4>\n",
        "4. Using sklearn, build and evaluate a Gaussian Naive Bayes classifier. How well does it do? For comparison, try building a Gaussian Naive Bayes Classifier on the EMNIST digits dataset -- does Gaussian Naive Bayes do better on the digits than it does on the letters (pay attention to the <em>baseline accuracy</em> for each).\n",
        "\n",
        "[sklearn GaussianNB](https://scikit-learn.org/stable/modules/generated/sklearn.naive_bayes.GaussianNB.html)\n",
        "</h4>"
      ],
      "metadata": {
        "id": "kG4VZlOIcHif"
      }
    },
    {
      "cell_type": "markdown",
      "source": [
        "<h5>EMNIST Letters</h5>\n",
        "<p><u>GNB Average Scores: 34.50%</u></p>"
      ],
      "metadata": {
        "id": "3KcFVEACdfwk"
      }
    },
    {
      "cell_type": "code",
      "source": [
        "from sklearn.model_selection import train_test_split\n",
        "\n",
        "X_train, X_test, y_train, y_test = train_test_split(image_arrays, labels, test_size=0.25)"
      ],
      "metadata": {
        "id": "eY5kSYM8cKv6",
        "colab": {
          "base_uri": "https://localhost:8080/"
        },
        "outputId": "6fb73df2-bf3c-4af6-8ca1-bfa02d85d082"
      },
      "execution_count": 6,
      "outputs": [
        {
          "output_type": "stream",
          "name": "stdout",
          "text": [
            "(93600, 784) (93600,)\n"
          ]
        }
      ]
    },
    {
      "cell_type": "code",
      "source": [
        "from sklearn.naive_bayes import GaussianNB\n",
        "gnb = GaussianNB()"
      ],
      "metadata": {
        "id": "rRyCzkHdcw1m"
      },
      "execution_count": 7,
      "outputs": []
    },
    {
      "cell_type": "code",
      "source": [
        "from sklearn.model_selection import cross_val_score\n",
        "gnb.fit(X_train, y_train)\n",
        "gnb_scores = cross_val_score(gnb, X_train, y_train, cv=5)"
      ],
      "metadata": {
        "id": "3N4Kc4Axc1Xr"
      },
      "execution_count": 9,
      "outputs": []
    },
    {
      "cell_type": "code",
      "source": [
        "print('GNB (sklearn) Average Scores:', sum(gnb_scores)/len(gnb_scores))"
      ],
      "metadata": {
        "colab": {
          "base_uri": "https://localhost:8080/"
        },
        "id": "LFvQ--tOdIGG",
        "outputId": "95bfb995-d697-49c7-98b1-1fce6a1bb308"
      },
      "execution_count": 10,
      "outputs": [
        {
          "output_type": "stream",
          "name": "stdout",
          "text": [
            "GNB (sklearn) Average Scores: 0.3449786324786325\n"
          ]
        }
      ]
    },
    {
      "cell_type": "markdown",
      "source": [
        "<h5>EMNIST Numbers</h5>\n",
        "<p><u>GNB Average Scores: <b>65.37%</b></u></p>"
      ],
      "metadata": {
        "id": "oo4hSAbqjJsz"
      }
    },
    {
      "cell_type": "code",
      "source": [
        "number_images, number_labels = extract_training_samples(\"digits\")\n",
        "number_images.shape"
      ],
      "metadata": {
        "colab": {
          "base_uri": "https://localhost:8080/"
        },
        "id": "TMMI1oUsdTzu",
        "outputId": "8400517a-0977-4182-d2ed-6639ab91ea1d"
      },
      "execution_count": 3,
      "outputs": [
        {
          "output_type": "execute_result",
          "data": {
            "text/plain": [
              "(240000, 28, 28)"
            ]
          },
          "metadata": {},
          "execution_count": 3
        }
      ]
    },
    {
      "cell_type": "code",
      "source": [
        "import numpy as np\n",
        "\n",
        "number_lists = []\n",
        "\n",
        "for image in number_images:\n",
        "  temp_features = []\n",
        "  for row in image:\n",
        "    temp_features.extend(row)\n",
        "  number_lists.append(temp_features)\n",
        "\n",
        "number_arrays = np.array(number_lists)\n",
        "number_arrays.shape"
      ],
      "metadata": {
        "id": "NKXIabv4jT81",
        "colab": {
          "base_uri": "https://localhost:8080/"
        },
        "outputId": "4a84d30a-7843-4c89-fb6f-76b603ce8702"
      },
      "execution_count": 4,
      "outputs": [
        {
          "output_type": "execute_result",
          "data": {
            "text/plain": [
              "(240000, 784)"
            ]
          },
          "metadata": {},
          "execution_count": 4
        }
      ]
    },
    {
      "cell_type": "code",
      "source": [
        "from sklearn.model_selection import train_test_split\n",
        "\n",
        "X_num_train, X_num_test, y_num_train, y_num_test = train_test_split(number_arrays, number_labels, test_size=0.25)"
      ],
      "metadata": {
        "id": "osA0IZUjkCoZ"
      },
      "execution_count": 5,
      "outputs": []
    },
    {
      "cell_type": "code",
      "source": [
        "from sklearn.naive_bayes import GaussianNB\n",
        "from sklearn.model_selection import cross_val_score\n",
        "gnb_num = GaussianNB()\n",
        "\n",
        "gnb_num.fit(X_num_train, y_num_train)\n",
        "gnb_num_scores = cross_val_score(gnb_num, X_num_train, y_num_train, cv=5)\n",
        "\n",
        "print('GNB (sklearn) Average Scores (digits dataset):', sum(gnb_num_scores)/len(gnb_num_scores))"
      ],
      "metadata": {
        "colab": {
          "base_uri": "https://localhost:8080/"
        },
        "id": "6jFxOBBNogmO",
        "outputId": "1f1c0602-5c68-4543-c7ae-f6bbc9bef9e9"
      },
      "execution_count": 6,
      "outputs": [
        {
          "output_type": "stream",
          "name": "stdout",
          "text": [
            "GNB (sklearn) Average Scores (digits dataset): 0.6537111111111111\n"
          ]
        }
      ]
    },
    {
      "cell_type": "markdown",
      "source": [
        "<h4>5. Can you improve one or more of these models (this will take experimentation). Things to try would include preprocessing of the data (thresholding, re-centering/stretching with different bounding boxes, data augmentation, etc.). It's okay if you can't improve, just try a couple things).</h4>"
      ],
      "metadata": {
        "id": "5gG0nI_DqTFg"
      }
    },
    {
      "cell_type": "markdown",
      "source": [
        "<h5>Thresholding</h5>"
      ],
      "metadata": {
        "id": "50NybDeCWRqv"
      }
    },
    {
      "cell_type": "code",
      "source": [
        "from sklearn.model_selection import train_test_split\n",
        "from sklearn.model_selection import cross_val_score\n",
        "from sklearn.neighbors import KNeighborsClassifier\n",
        "import matplotlib.pyplot as plt\n",
        "\n",
        "X_train, X_test, y_train, y_test = train_test_split(image_arrays, labels, test_size=0.25)\n",
        "\n",
        "plot2 = plt.imshow(X_test[0].reshape((28,28),order='C'))"
      ],
      "metadata": {
        "colab": {
          "base_uri": "https://localhost:8080/",
          "height": 265
        },
        "id": "GTkrYNHTP7LL",
        "outputId": "cb6fcbdc-2ebc-45ff-b3c7-d0482c1856e4"
      },
      "execution_count": 58,
      "outputs": [
        {
          "output_type": "display_data",
          "data": {
            "text/plain": [
              "<Figure size 432x288 with 1 Axes>"
            ],
            "image/png": "[encoded data removed]"
          },
          "metadata": {
            "needs_background": "light"
          }
        }
      ]
    },
    {
      "cell_type": "code",
      "source": [
        "# Thresholding - invert colors\n",
        "for x in range(0, 10):\n",
        "  for y in range(0, len(X_train[x])):\n",
        "    if X_test[x][y] > 0:\n",
        "      X_test[x][y] = 0\n",
        "    else:\n",
        "      X_test[x][y] = 250"
      ],
      "metadata": {
        "id": "H4jjive9UA-b"
      },
      "execution_count": 67,
      "outputs": []
    },
    {
      "cell_type": "code",
      "source": [
        "plot2 = plt.imshow(X_test[0].reshape((28,28),order='C'))"
      ],
      "metadata": {
        "colab": {
          "base_uri": "https://localhost:8080/",
          "height": 265
        },
        "id": "Kyvl0wf4UPPs",
        "outputId": "fdbdef28-e4b4-426b-92f3-773914e8c1e5"
      },
      "execution_count": 68,
      "outputs": [
        {
          "output_type": "display_data",
          "data": {
            "text/plain": [
              "<Figure size 432x288 with 1 Axes>"
            ],
            "image/png": "[encoded data removed]"
          },
          "metadata": {
            "needs_background": "light"
          }
        }
      ]
    },
    {
      "cell_type": "code",
      "source": [
        "knn_thresh = KNeighborsClassifier(n_neighbors=5)\n",
        "knn_thresh.fit(X_train, y_train)\n",
        "knn_thresh_scores = cross_val_score(knn_thresh, X_test, y_test, cv=5)"
      ],
      "metadata": {
        "id": "-W3tbbzdUMq1"
      },
      "execution_count": 61,
      "outputs": []
    },
    {
      "cell_type": "code",
      "source": [
        "print(\"KNN with Thresholding: Average Validation Score = \", sum(knn_thresh_scores)/len(knn_thresh_scores))"
      ],
      "metadata": {
        "colab": {
          "base_uri": "https://localhost:8080/"
        },
        "id": "ggKPr--qTHLS",
        "outputId": "c701bc79-ef66-4073-983a-2b1757680ed1"
      },
      "execution_count": 69,
      "outputs": [
        {
          "output_type": "stream",
          "name": "stdout",
          "text": [
            "KNN with Thresholding: Average Validation Score =  0.8084615384615385\n"
          ]
        }
      ]
    },
    {
      "cell_type": "markdown",
      "source": [
        "<h4>6. Based on the validation accuracies you achieved in the previous parts, what is the best model? Evaluate that model on the test set. Create a confusion matrix to evaluate the results -- which letters is it most unable to determine between? Since there are so many classes -- you should probably visualize the conusion matrix with a plot (see sklearn's ConfusionMatrixDisplay</h4>"
      ],
      "metadata": {
        "id": "qDavD7D6qdte"
      }
    },
    {
      "cell_type": "markdown",
      "source": [
        "<h4>EMNIST Letter Classification Model Performance</h4>\n",
        "<table>\n",
        "  <tr>\n",
        "    <td>Model</td>\n",
        "    <td>Source</td>\n",
        "    <td>Validation Accuracy</td>\n",
        "    <td>Folds</td>\n",
        "  </tr>\n",
        "  <tr>\n",
        "    <td><b>KNN</b></td>\n",
        "    <td><b>sklearn<b></td>\n",
        "    <td><b>84.75%<b></td>\n",
        "    <td><b>4 (Cross-val)<b></td>\n",
        "  </tr>\n",
        "    <tr>\n",
        "    <td>ANN</td>\n",
        "    <td>FLANN</td>\n",
        "    <td>79.67%</td>\n",
        "    <td>1 (No cross-val)</td>\n",
        "      <tr>\n",
        "    <td>Gaussian NB</td>\n",
        "    <td>sklearn</td>\n",
        "    <td>35.42%</td>\n",
        "    <td>4 (Cross-val)</td>\n",
        "  </tr>\n",
        "  <tr>\n",
        "    <td>KNN with Thresholding</b></td>\n",
        "    <td>sklearn</td>\n",
        "    <td>80.85%</td>\n",
        "    <td>5 (Cross-val)</td>\n",
        "  </tr>\n",
        "  </tr>\n",
        "</table>"
      ],
      "metadata": {
        "id": "jo4BNH4xnfnV"
      }
    },
    {
      "cell_type": "code",
      "source": [
        "# Repeats the original train_test_split call from the entire dataset\n",
        "from sklearn.model_selection import train_test_split\n",
        "\n",
        "X_train, X_test, y_train, y_test = train_test_split(image_arrays, labels, test_size=0.25)"
      ],
      "metadata": {
        "id": "FihEF4mGqgdy"
      },
      "execution_count": 70,
      "outputs": []
    },
    {
      "cell_type": "code",
      "source": [
        "# Fits KNN model with training set, stores predictions\n",
        "from sklearn.neighbors import KNeighborsClassifier\n",
        "\n",
        "knn = KNeighborsClassifier(n_neighbors=5)\n",
        "knn.fit(X_train, y_train)\n",
        "\n",
        "predictions = knn.predict(X_test)"
      ],
      "metadata": {
        "id": "oYpuh8RhqufR"
      },
      "execution_count": null,
      "outputs": []
    },
    {
      "cell_type": "code",
      "source": [
        "import matplotlib.pyplot as plt\n",
        "from sklearn.datasets import make_classification\n",
        "from sklearn.metrics import confusion_matrix, ConfusionMatrixDisplay\n",
        "\n",
        "# Creates confusion matrix from predictions\n",
        "cm = confusion_matrix(y_test, predictions, labels=knn.classes_)\n",
        "disp = ConfusionMatrixDisplay(confusion_matrix=cm, display_labels=knn.classes_)\n",
        "disp.plot()\n",
        "plt.show()"
      ],
      "metadata": {
        "colab": {
          "base_uri": "https://localhost:8080/",
          "height": 280
        },
        "id": "76_Rc1tFrRQl",
        "outputId": "b2cfa7d6-d4f2-41f5-d4a2-2cb16b25c5a8"
      },
      "execution_count": null,
      "outputs": [
        {
          "output_type": "display_data",
          "data": {
            "text/plain": [
              "<Figure size 432x288 with 2 Axes>"
            ],
            "image/png": "[encoded data removed]"
          },
          "metadata": {
            "needs_background": "light"
          }
        }
      ]
    },
    {
      "cell_type": "markdown",
      "source": [
        "<p>Based on the confusion matrix, G (label == 7), I (label == 9)and P (label == 16) were least frequently predicted as their correct label for the test set. </p>"
      ],
      "metadata": {
        "id": "uq6qtV5qt5Os"
      }
    },
    {
      "cell_type": "markdown",
      "source": [
        "<hr/>\n",
        "<hr/>"
      ],
      "metadata": {
        "id": "JT7HWjR9qrU9"
      }
    },
    {
      "cell_type": "markdown",
      "source": [
        "## Problem 2 - SMS Spam vs Ham Classification\n",
        "\n",
        "A common use of Naive Bayes is for text classification. When using Naive Bayes for text classification a common choice is to use a \"bag of words\" representation of a document. The \"bag of words\" representation assumes position doesn't matter and instead focuses on how common each word is in a document.\n",
        "\n",
        "The dataset for this problem is https://archive.ics.uci.edu/ml/datasets/sms+spam+collection. Don't forget to separate the dataset into train/test splits (this dataset isn't preseparated) and use cross-validation (either k-fold cross validation or by separating the dataset into train/test/validate subsets). You might want to consider \"stratified\" sampling when doing your dataset splitting due to the imbalance in the dataset.\n",
        "\n",
        "Dataset [source](https://archive.ics.uci.edu/ml/datasets/sms+spam+collection)"
      ],
      "metadata": {
        "id": "Oim3vTGHqs-n"
      }
    },
    {
      "cell_type": "code",
      "source": [
        "from google.colab import drive\n",
        "drive.mount('/content/drive')\n",
        "path = '/content/drive/MyDrive/smsspamcollection/SMSSpamCollection'"
      ],
      "metadata": {
        "colab": {
          "base_uri": "https://localhost:8080/"
        },
        "id": "rfEA_JY92oCE",
        "outputId": "df93a17b-8db7-4199-d808-6e25912cb37d"
      },
      "execution_count": null,
      "outputs": [
        {
          "output_type": "stream",
          "name": "stdout",
          "text": [
            "Drive already mounted at /content/drive; to attempt to forcibly remount, call drive.mount(\"/content/drive\", force_remount=True).\n"
          ]
        }
      ]
    },
    {
      "cell_type": "code",
      "source": [
        "import pandas as pd\n",
        "# 5571 elements\n",
        "df=pd.read_table(path)"
      ],
      "metadata": {
        "id": "cvHECmTc36Qv"
      },
      "execution_count": 95,
      "outputs": []
    },
    {
      "cell_type": "markdown",
      "source": [
        "Renames df column names, translates spam/ham to 1/0."
      ],
      "metadata": {
        "id": "4wfbY1mqw_XO"
      }
    },
    {
      "cell_type": "code",
      "source": [
        "# Stores column name, \"Go until jurong point, crazy...\", to variable\n",
        "text_col_name = df.columns[1]\n",
        "# Renames df columns\n",
        "df = df.rename(columns={\"ham\":\"label\", text_col_name:'texts'})\n",
        "text_labels = df['label']\n",
        "# Reassigns label values to integers\n",
        "for i in range(0, len(df['label'])):\n",
        "  df['label'][i] = \"1\" if text_labels[i] == 'spam' else \"0\"\n",
        "\n",
        "df"
      ],
      "metadata": {
        "id": "LGmzIMqA4oqC",
        "colab": {
          "base_uri": "https://localhost:8080/",
          "height": 423
        },
        "outputId": "b9da9a69-9da3-4e6d-f03b-768bbe48b49a"
      },
      "execution_count": 115,
      "outputs": [
        {
          "output_type": "execute_result",
          "data": {
            "text/plain": [
              "     label                                              texts\n",
              "0        0                      Ok lar... Joking wif u oni...\n",
              "1        1  Free entry in 2 a wkly comp to win FA Cup fina...\n",
              "2        0  U dun say so early hor... U c already then say...\n",
              "3        0  Nah I don't think he goes to usf, he lives aro...\n",
              "4        1  FreeMsg Hey there darling it's been 3 week's n...\n",
              "...    ...                                                ...\n",
              "5566     1  This is the 2nd time we have tried 2 contact u...\n",
              "5567     0               Will ü b going to esplanade fr home?\n",
              "5568     0  Pity, * was in mood for that. So...any other s...\n",
              "5569     0  The guy did some bitching but I acted like i'd...\n",
              "5570     0                         Rofl. Its true to its name\n",
              "\n",
              "[5571 rows x 2 columns]"
            ],
            "text/html": [
              "\n",
              "  <div id=\"df-6c76a4a6-3620-4f78-969b-788e94dba216\">\n",
              "    <div class=\"colab-df-container\">\n",
              "      <div>\n",
              "<style scoped>\n",
              "    .dataframe tbody tr th:only-of-type {\n",
              "        vertical-align: middle;\n",
              "    }\n",
              "\n",
              "    .dataframe tbody tr th {\n",
              "        vertical-align: top;\n",
              "    }\n",
              "\n",
              "    .dataframe thead th {\n",
              "        text-align: right;\n",
              "    }\n",
              "</style>\n",
              "<table border=\"1\" class=\"dataframe\">\n",
              "  <thead>\n",
              "    <tr style=\"text-align: right;\">\n",
              "      <th></th>\n",
              "      <th>label</th>\n",
              "      <th>texts</th>\n",
              "    </tr>\n",
              "  </thead>\n",
              "  <tbody>\n",
              "    <tr>\n",
              "      <th>0</th>\n",
              "      <td>0</td>\n",
              "      <td>Ok lar... Joking wif u oni...</td>\n",
              "    </tr>\n",
              "    <tr>\n",
              "      <th>1</th>\n",
              "      <td>1</td>\n",
              "      <td>Free entry in 2 a wkly comp to win FA Cup fina...</td>\n",
              "    </tr>\n",
              "    <tr>\n",
              "      <th>2</th>\n",
              "      <td>0</td>\n",
              "      <td>U dun say so early hor... U c already then say...</td>\n",
              "    </tr>\n",
              "    <tr>\n",
              "      <th>3</th>\n",
              "      <td>0</td>\n",
              "      <td>Nah I don't think he goes to usf, he lives aro...</td>\n",
              "    </tr>\n",
              "    <tr>\n",
              "      <th>4</th>\n",
              "      <td>1</td>\n",
              "      <td>FreeMsg Hey there darling it's been 3 week's n...</td>\n",
              "    </tr>\n",
              "    <tr>\n",
              "      <th>...</th>\n",
              "      <td>...</td>\n",
              "      <td>...</td>\n",
              "    </tr>\n",
              "    <tr>\n",
              "      <th>5566</th>\n",
              "      <td>1</td>\n",
              "      <td>This is the 2nd time we have tried 2 contact u...</td>\n",
              "    </tr>\n",
              "    <tr>\n",
              "      <th>5567</th>\n",
              "      <td>0</td>\n",
              "      <td>Will ü b going to esplanade fr home?</td>\n",
              "    </tr>\n",
              "    <tr>\n",
              "      <th>5568</th>\n",
              "      <td>0</td>\n",
              "      <td>Pity, * was in mood for that. So...any other s...</td>\n",
              "    </tr>\n",
              "    <tr>\n",
              "      <th>5569</th>\n",
              "      <td>0</td>\n",
              "      <td>The guy did some bitching but I acted like i'd...</td>\n",
              "    </tr>\n",
              "    <tr>\n",
              "      <th>5570</th>\n",
              "      <td>0</td>\n",
              "      <td>Rofl. Its true to its name</td>\n",
              "    </tr>\n",
              "  </tbody>\n",
              "</table>\n",
              "<p>5571 rows × 2 columns</p>\n",
              "</div>\n",
              "      <button class=\"colab-df-convert\" onclick=\"convertToInteractive('df-6c76a4a6-3620-4f78-969b-788e94dba216')\"\n",
              "              title=\"Convert this dataframe to an interactive table.\"\n",
              "              style=\"display:none;\">\n",
              "        \n",
              "  <svg xmlns=\"http://www.w3.org/2000/svg\" height=\"24px\"viewBox=\"0 0 24 24\"\n",
              "       width=\"24px\">\n",
              "    <path d=\"M0 0h24v24H0V0z\" fill=\"none\"/>\n",
              "    <path d=\"M18.56 5.44l.94 2.06.94-2.06 2.06-.94-2.06-.94-.94-2.06-.94 2.06-2.06.94zm-11 1L8.5 8.5l.94-2.06 2.06-.94-2.06-.94L8.5 2.5l-.94 2.06-2.06.94zm10 10l.94 2.06.94-2.06 2.06-.94-2.06-.94-.94-2.06-.94 2.06-2.06.94z\"/><path d=\"M17.41 7.96l-1.37-1.37c-.4-.4-.92-.59-1.43-.59-.52 0-1.04.2-1.43.59L10.3 9.45l-7.72 7.72c-.78.78-.78 2.05 0 2.83L4 21.41c.39.39.9.59 1.41.59.51 0 1.02-.2 1.41-.59l7.78-7.78 2.81-2.81c.8-.78.8-2.07 0-2.86zM5.41 20L4 18.59l7.72-7.72 1.47 1.35L5.41 20z\"/>\n",
              "  </svg>\n",
              "      </button>\n",
              "      \n",
              "  <style>\n",
              "    .colab-df-container {\n",
              "      display:flex;\n",
              "      flex-wrap:wrap;\n",
              "      gap: 12px;\n",
              "    }\n",
              "\n",
              "    .colab-df-convert {\n",
              "      background-color: #E8F0FE;\n",
              "      border: none;\n",
              "      border-radius: 50%;\n",
              "      cursor: pointer;\n",
              "      display: none;\n",
              "      fill: #1967D2;\n",
              "      height: 32px;\n",
              "      padding: 0 0 0 0;\n",
              "      width: 32px;\n",
              "    }\n",
              "\n",
              "    .colab-df-convert:hover {\n",
              "      background-color: #E2EBFA;\n",
              "      box-shadow: 0px 1px 2px rgba(60, 64, 67, 0.3), 0px 1px 3px 1px rgba(60, 64, 67, 0.15);\n",
              "      fill: #174EA6;\n",
              "    }\n",
              "\n",
              "    [theme=dark] .colab-df-convert {\n",
              "      background-color: #3B4455;\n",
              "      fill: #D2E3FC;\n",
              "    }\n",
              "\n",
              "    [theme=dark] .colab-df-convert:hover {\n",
              "      background-color: #434B5C;\n",
              "      box-shadow: 0px 1px 3px 1px rgba(0, 0, 0, 0.15);\n",
              "      filter: drop-shadow(0px 1px 2px rgba(0, 0, 0, 0.3));\n",
              "      fill: #FFFFFF;\n",
              "    }\n",
              "  </style>\n",
              "\n",
              "      <script>\n",
              "        const buttonEl =\n",
              "          document.querySelector('#df-6c76a4a6-3620-4f78-969b-788e94dba216 button.colab-df-convert');\n",
              "        buttonEl.style.display =\n",
              "          google.colab.kernel.accessAllowed ? 'block' : 'none';\n",
              "\n",
              "        async function convertToInteractive(key) {\n",
              "          const element = document.querySelector('#df-6c76a4a6-3620-4f78-969b-788e94dba216');\n",
              "          const dataTable =\n",
              "            await google.colab.kernel.invokeFunction('convertToInteractive',\n",
              "                                                     [key], {});\n",
              "          if (!dataTable) return;\n",
              "\n",
              "          const docLinkHtml = 'Like what you see? Visit the ' +\n",
              "            '<a target=\"_blank\" href=https://colab.research.google.com/notebooks/data_table.ipynb>data table notebook</a>'\n",
              "            + ' to learn more about interactive tables.';\n",
              "          element.innerHTML = '';\n",
              "          dataTable['output_type'] = 'display_data';\n",
              "          await google.colab.output.renderOutput(dataTable, element);\n",
              "          const docLink = document.createElement('div');\n",
              "          docLink.innerHTML = docLinkHtml;\n",
              "          element.appendChild(docLink);\n",
              "        }\n",
              "      </script>\n",
              "    </div>\n",
              "  </div>\n",
              "  "
            ]
          },
          "metadata": {},
          "execution_count": 115
        }
      ]
    },
    {
      "cell_type": "markdown",
      "source": [
        "<h4>1. Using sklearn, build and evaluate a Multinomial Naive Bayes classifier to classify the text messages as \"spam\" or \"ham\" (e.g. not spam). You'll need to get the word counts first (you may want to consider using sklearn's <a href=\"https://scikit-learn.org/stable/modules/generated/sklearn.feature_extraction.text.CountVectorizer.html\">CountVectorizer</a>, but you are also free to process the data manually).\n",
        "\n",
        "[sklearn MultinomialNB](https://scikit-learn.org/stable/modules/generated/sklearn.naive_bayes.MultinomialNB.html)</h4>\n"
      ],
      "metadata": {
        "id": "xv5Rc6ZHq2Xt"
      }
    },
    {
      "cell_type": "code",
      "source": [
        "from sklearn.model_selection import train_test_split\n",
        "\n",
        "X_text_train, X_text_test, y_text_train, y_text_test = train_test_split(df['texts'], df['label'], test_size=0.25)"
      ],
      "metadata": {
        "id": "Mp3bhW-MXmJk"
      },
      "execution_count": 97,
      "outputs": []
    },
    {
      "cell_type": "markdown",
      "source": [
        "[fit_transform()](https://scikit-learn.org/stable/modules/generated/sklearn.feature_extraction.text.CountVectorizer.html#sklearn.feature_extraction.text.CountVectorizer.fit_transform)"
      ],
      "metadata": {
        "id": "TON4YjFXXmJl"
      }
    },
    {
      "cell_type": "code",
      "source": [
        "from sklearn.feature_extraction.text import CountVectorizer\n",
        "import numpy as np\n",
        "\n",
        "c_v = CountVectorizer()\n",
        "X = c_v.fit_transform(X_text_train)\n",
        "\n",
        "# Array: each feature/attr. is a word/token in the vocabulary\n",
        "X_arr_train = X.toarray()"
      ],
      "metadata": {
        "id": "3gG8-yUdXmJl",
        "colab": {
          "base_uri": "https://localhost:8080/"
        },
        "outputId": "24d387ce-3d76-460b-c2f1-41ef7163d197"
      },
      "execution_count": 104,
      "outputs": [
        {
          "output_type": "stream",
          "name": "stdout",
          "text": [
            "<class 'numpy.ndarray'>\n",
            "<class 'pandas.core.series.Series'>\n"
          ]
        }
      ]
    },
    {
      "cell_type": "code",
      "source": [
        "# Each element in the training set is represented by a vector with the\n",
        "# frequency of each word in the entire vocabulary\n",
        "X_text_train.shape"
      ],
      "metadata": {
        "colab": {
          "base_uri": "https://localhost:8080/"
        },
        "id": "Belt2pp6Z8vw",
        "outputId": "6484069c-0ab0-4a21-c4a3-9a3cb25c5de3"
      },
      "execution_count": 66,
      "outputs": [
        {
          "output_type": "execute_result",
          "data": {
            "text/plain": [
              "(4178,)"
            ]
          },
          "metadata": {},
          "execution_count": 66
        }
      ]
    },
    {
      "cell_type": "markdown",
      "source": [
        "<h4>2. Experiment with different preprocessing steps ( -- somethings you may want to consider are <b>removing stop words</b>, removing numbers, dropping infrequent words, etc.)</h4>\n",
        "\n",
        "[nltk (Natural Language Tool Kit) stopwords](https://www.geeksforgeeks.org/removing-stop-words-nltk-python/) - previously used in CIS 365 & personal work"
      ],
      "metadata": {
        "id": "nlDd9qMLq3Ix"
      }
    },
    {
      "cell_type": "code",
      "source": [
        "import pandas as pd\n",
        "# 5571 elements\n",
        "df_nostop=pd.read_table(path)\n",
        "\n",
        "text_col_name = df_nostop.columns[1]\n",
        "df_nostop = df_nostop.rename(columns={\"ham\":\"label\", text_col_name:'texts'})\n",
        "text_labels = df_nostop['label']\n",
        "for i in range(0, len(df_nostop['label'])):\n",
        "  df_nostop['label'][i] = \"1\" if text_labels[i] == 'spam' else \"0\""
      ],
      "metadata": {
        "id": "b7zg381HEEZT"
      },
      "execution_count": 128,
      "outputs": []
    },
    {
      "cell_type": "code",
      "source": [
        "import nltk\n",
        "nltk.download('stopwords')\n",
        "swords = set(stopwords.words('english'))\n",
        "\n",
        "# Removing stopwords from each string before model\n",
        "abbreviated_texts = []\n",
        "for i in range (0,len(df_nostop['texts'])):\n",
        "  stopwords_removed = \"\"\n",
        "  # print(df_nostop['texts'][i])\n",
        "  for x in df_nostop['texts'][i].split(\" \"):\n",
        "    if x.lower() not in swords:\n",
        "      stopwords_removed += x + \" \"\n",
        "  abbreviated_texts.append(stopwords_removed)\n",
        "  # print(stopwords_removed)\n",
        "  # print()\n",
        "  \n",
        "df_nostop['texts'] = abbreviated_texts\n",
        "\n",
        "# df updated with stopwords removed\n",
        "df_nostop"
      ],
      "metadata": {
        "colab": {
          "base_uri": "https://localhost:8080/",
          "height": 458
        },
        "id": "smTnSiqE80mL",
        "outputId": "666c8993-7e88-4fba-8914-df6e1668499e"
      },
      "execution_count": 129,
      "outputs": [
        {
          "output_type": "stream",
          "name": "stderr",
          "text": [
            "[nltk_data] Downloading package stopwords to /root/nltk_data...\n",
            "[nltk_data]   Package stopwords is already up-to-date!\n"
          ]
        },
        {
          "output_type": "execute_result",
          "data": {
            "text/plain": [
              "     label                                              texts\n",
              "0        0                     Ok lar... Joking wif u oni... \n",
              "1        1  Free entry 2 wkly comp win FA Cup final tkts 2...\n",
              "2        0         U dun say early hor... U c already say... \n",
              "3        0           Nah think goes usf, lives around though \n",
              "4        1  FreeMsg Hey darling 3 week's word back! I'd li...\n",
              "...    ...                                                ...\n",
              "5566     1  2nd time tried 2 contact u. U £750 Pound prize...\n",
              "5567     0                      ü b going esplanade fr home? \n",
              "5568     0          Pity, * mood that. So...any suggestions? \n",
              "5569     0  guy bitching acted like i'd interested buying ...\n",
              "5570     0                                   Rofl. true name \n",
              "\n",
              "[5571 rows x 2 columns]"
            ],
            "text/html": [
              "\n",
              "  <div id=\"df-aa0b977e-8992-414a-a223-3e859205621f\">\n",
              "    <div class=\"colab-df-container\">\n",
              "      <div>\n",
              "<style scoped>\n",
              "    .dataframe tbody tr th:only-of-type {\n",
              "        vertical-align: middle;\n",
              "    }\n",
              "\n",
              "    .dataframe tbody tr th {\n",
              "        vertical-align: top;\n",
              "    }\n",
              "\n",
              "    .dataframe thead th {\n",
              "        text-align: right;\n",
              "    }\n",
              "</style>\n",
              "<table border=\"1\" class=\"dataframe\">\n",
              "  <thead>\n",
              "    <tr style=\"text-align: right;\">\n",
              "      <th></th>\n",
              "      <th>label</th>\n",
              "      <th>texts</th>\n",
              "    </tr>\n",
              "  </thead>\n",
              "  <tbody>\n",
              "    <tr>\n",
              "      <th>0</th>\n",
              "      <td>0</td>\n",
              "      <td>Ok lar... Joking wif u oni...</td>\n",
              "    </tr>\n",
              "    <tr>\n",
              "      <th>1</th>\n",
              "      <td>1</td>\n",
              "      <td>Free entry 2 wkly comp win FA Cup final tkts 2...</td>\n",
              "    </tr>\n",
              "    <tr>\n",
              "      <th>2</th>\n",
              "      <td>0</td>\n",
              "      <td>U dun say early hor... U c already say...</td>\n",
              "    </tr>\n",
              "    <tr>\n",
              "      <th>3</th>\n",
              "      <td>0</td>\n",
              "      <td>Nah think goes usf, lives around though</td>\n",
              "    </tr>\n",
              "    <tr>\n",
              "      <th>4</th>\n",
              "      <td>1</td>\n",
              "      <td>FreeMsg Hey darling 3 week's word back! I'd li...</td>\n",
              "    </tr>\n",
              "    <tr>\n",
              "      <th>...</th>\n",
              "      <td>...</td>\n",
              "      <td>...</td>\n",
              "    </tr>\n",
              "    <tr>\n",
              "      <th>5566</th>\n",
              "      <td>1</td>\n",
              "      <td>2nd time tried 2 contact u. U £750 Pound prize...</td>\n",
              "    </tr>\n",
              "    <tr>\n",
              "      <th>5567</th>\n",
              "      <td>0</td>\n",
              "      <td>ü b going esplanade fr home?</td>\n",
              "    </tr>\n",
              "    <tr>\n",
              "      <th>5568</th>\n",
              "      <td>0</td>\n",
              "      <td>Pity, * mood that. So...any suggestions?</td>\n",
              "    </tr>\n",
              "    <tr>\n",
              "      <th>5569</th>\n",
              "      <td>0</td>\n",
              "      <td>guy bitching acted like i'd interested buying ...</td>\n",
              "    </tr>\n",
              "    <tr>\n",
              "      <th>5570</th>\n",
              "      <td>0</td>\n",
              "      <td>Rofl. true name</td>\n",
              "    </tr>\n",
              "  </tbody>\n",
              "</table>\n",
              "<p>5571 rows × 2 columns</p>\n",
              "</div>\n",
              "      <button class=\"colab-df-convert\" onclick=\"convertToInteractive('df-aa0b977e-8992-414a-a223-3e859205621f')\"\n",
              "              title=\"Convert this dataframe to an interactive table.\"\n",
              "              style=\"display:none;\">\n",
              "        \n",
              "  <svg xmlns=\"http://www.w3.org/2000/svg\" height=\"24px\"viewBox=\"0 0 24 24\"\n",
              "       width=\"24px\">\n",
              "    <path d=\"M0 0h24v24H0V0z\" fill=\"none\"/>\n",
              "    <path d=\"M18.56 5.44l.94 2.06.94-2.06 2.06-.94-2.06-.94-.94-2.06-.94 2.06-2.06.94zm-11 1L8.5 8.5l.94-2.06 2.06-.94-2.06-.94L8.5 2.5l-.94 2.06-2.06.94zm10 10l.94 2.06.94-2.06 2.06-.94-2.06-.94-.94-2.06-.94 2.06-2.06.94z\"/><path d=\"M17.41 7.96l-1.37-1.37c-.4-.4-.92-.59-1.43-.59-.52 0-1.04.2-1.43.59L10.3 9.45l-7.72 7.72c-.78.78-.78 2.05 0 2.83L4 21.41c.39.39.9.59 1.41.59.51 0 1.02-.2 1.41-.59l7.78-7.78 2.81-2.81c.8-.78.8-2.07 0-2.86zM5.41 20L4 18.59l7.72-7.72 1.47 1.35L5.41 20z\"/>\n",
              "  </svg>\n",
              "      </button>\n",
              "      \n",
              "  <style>\n",
              "    .colab-df-container {\n",
              "      display:flex;\n",
              "      flex-wrap:wrap;\n",
              "      gap: 12px;\n",
              "    }\n",
              "\n",
              "    .colab-df-convert {\n",
              "      background-color: #E8F0FE;\n",
              "      border: none;\n",
              "      border-radius: 50%;\n",
              "      cursor: pointer;\n",
              "      display: none;\n",
              "      fill: #1967D2;\n",
              "      height: 32px;\n",
              "      padding: 0 0 0 0;\n",
              "      width: 32px;\n",
              "    }\n",
              "\n",
              "    .colab-df-convert:hover {\n",
              "      background-color: #E2EBFA;\n",
              "      box-shadow: 0px 1px 2px rgba(60, 64, 67, 0.3), 0px 1px 3px 1px rgba(60, 64, 67, 0.15);\n",
              "      fill: #174EA6;\n",
              "    }\n",
              "\n",
              "    [theme=dark] .colab-df-convert {\n",
              "      background-color: #3B4455;\n",
              "      fill: #D2E3FC;\n",
              "    }\n",
              "\n",
              "    [theme=dark] .colab-df-convert:hover {\n",
              "      background-color: #434B5C;\n",
              "      box-shadow: 0px 1px 3px 1px rgba(0, 0, 0, 0.15);\n",
              "      filter: drop-shadow(0px 1px 2px rgba(0, 0, 0, 0.3));\n",
              "      fill: #FFFFFF;\n",
              "    }\n",
              "  </style>\n",
              "\n",
              "      <script>\n",
              "        const buttonEl =\n",
              "          document.querySelector('#df-aa0b977e-8992-414a-a223-3e859205621f button.colab-df-convert');\n",
              "        buttonEl.style.display =\n",
              "          google.colab.kernel.accessAllowed ? 'block' : 'none';\n",
              "\n",
              "        async function convertToInteractive(key) {\n",
              "          const element = document.querySelector('#df-aa0b977e-8992-414a-a223-3e859205621f');\n",
              "          const dataTable =\n",
              "            await google.colab.kernel.invokeFunction('convertToInteractive',\n",
              "                                                     [key], {});\n",
              "          if (!dataTable) return;\n",
              "\n",
              "          const docLinkHtml = 'Like what you see? Visit the ' +\n",
              "            '<a target=\"_blank\" href=https://colab.research.google.com/notebooks/data_table.ipynb>data table notebook</a>'\n",
              "            + ' to learn more about interactive tables.';\n",
              "          element.innerHTML = '';\n",
              "          dataTable['output_type'] = 'display_data';\n",
              "          await google.colab.output.renderOutput(dataTable, element);\n",
              "          const docLink = document.createElement('div');\n",
              "          docLink.innerHTML = docLinkHtml;\n",
              "          element.appendChild(docLink);\n",
              "        }\n",
              "      </script>\n",
              "    </div>\n",
              "  </div>\n",
              "  "
            ]
          },
          "metadata": {},
          "execution_count": 129
        }
      ]
    },
    {
      "cell_type": "markdown",
      "source": [
        "<h4>3. Evaluate your best model on the test set. How well did it do? Calculate the test set accuracy. (How does this compare to the baseline accuracy?) You can use your choice of other evaluation metrics and/or confusion matrix to present.</h4>"
      ],
      "metadata": {
        "id": "IXkl5OeWq2yy"
      }
    },
    {
      "cell_type": "markdown",
      "source": [
        "<h4><u>MultinomialNB: 97.05% average validation accuracy</u></h4>\n",
        "<p>The MultinomialNB model recorded a 22% greater validation accuracy considering the entire text corpus, compared to the texts with stopwords removed.</p>"
      ],
      "metadata": {
        "id": "Jo0X8EdjHwjw"
      }
    },
    {
      "cell_type": "code",
      "source": [
        "Xt = c_v.fit_transform(X_text_test)\n",
        "\n",
        "# Array: each feature/attr. is a word/token in the vocabulary\n",
        "X_arr_test = Xt.toarray()"
      ],
      "metadata": {
        "id": "oTu_ITAKFyBz"
      },
      "execution_count": 131,
      "outputs": []
    },
    {
      "cell_type": "code",
      "source": [
        "from sklearn.naive_bayes import MultinomialNB\n",
        "mnb = MultinomialNB()\n",
        "mnb.fit(X_arr_train, y_text_train)"
      ],
      "metadata": {
        "colab": {
          "base_uri": "https://localhost:8080/",
          "height": 35
        },
        "id": "-QtVmSfLfOUN",
        "outputId": "d8e07aa9-8a4d-42ed-fae6-fb4a5a62fb3f"
      },
      "execution_count": 76,
      "outputs": [
        {
          "output_type": "execute_result",
          "data": {
            "text/plain": [
              "'0'"
            ],
            "application/vnd.google.colaboratory.intrinsic+json": {
              "type": "string"
            }
          },
          "metadata": {},
          "execution_count": 76
        }
      ]
    },
    {
      "cell_type": "code",
      "source": [
        "from sklearn.model_selection import cross_val_score\n",
        "mnb_scores = cross_val_score(mnb, X_arr_test, y_text_test, cv=5)\n",
        "print(\"MultinomialNB Validation Accuracy: \", sum(mnb_scores)/len(mnb_scores))"
      ],
      "metadata": {
        "id": "VahAPKPz0luj"
      },
      "execution_count": 121,
      "outputs": []
    },
    {
      "cell_type": "code",
      "source": [],
      "metadata": {
        "id": "Ee0tzYEwgfay",
        "colab": {
          "base_uri": "https://localhost:8080/"
        },
        "outputId": "76fb787a-f0af-4c00-836b-ae628e4c6239"
      },
      "execution_count": 124,
      "outputs": [
        {
          "output_type": "stream",
          "name": "stdout",
          "text": [
            "MultinomialNB Validation Accuracy:  0.970575797426575\n"
          ]
        }
      ]
    },
    {
      "cell_type": "markdown",
      "source": [
        "<h4>Stopwords Removed: 75.66% average validation accuracy</h4>"
      ],
      "metadata": {
        "id": "PtqWngw9G3Ux"
      }
    },
    {
      "cell_type": "code",
      "source": [
        "from sklearn.model_selection import train_test_split\n",
        "\n",
        "X_textno_train, X_textno_test, y_textno_train, y_textno_test = train_test_split(df_nostop['texts'], df_nostop['label'], test_size=0.25)"
      ],
      "metadata": {
        "id": "IClxGTFqG70h"
      },
      "execution_count": 133,
      "outputs": []
    },
    {
      "cell_type": "code",
      "source": [
        "Xt_n = c_v.fit_transform(X_textno_test)\n",
        "\n",
        "# Array: each feature/attr. is a word/token in the vocabulary\n",
        "X_arrno_test = Xt_n.toarray()"
      ],
      "metadata": {
        "id": "783I6InvGEfo"
      },
      "execution_count": 134,
      "outputs": []
    },
    {
      "cell_type": "code",
      "source": [
        "mnb_scores = cross_val_score(mnb, X_arrno_test, y_text_test, cv=5)\n",
        "print(\"MultinomialNB Validation Accuracy (No Stopwords): \", sum(mnb_scores)/len(mnb_scores))"
      ],
      "metadata": {
        "colab": {
          "base_uri": "https://localhost:8080/"
        },
        "id": "cV8ET1kfHRZK",
        "outputId": "f7410592-864d-4113-8295-35659aa6270d"
      },
      "execution_count": 136,
      "outputs": [
        {
          "output_type": "stream",
          "name": "stdout",
          "text": [
            "MultinomialNB Validation Accuracy (No Stopwords):  0.7566385601196461\n"
          ]
        }
      ]
    }
  ]
}